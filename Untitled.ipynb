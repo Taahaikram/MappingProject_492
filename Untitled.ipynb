{
 "cells": [
  {
   "cell_type": "code",
   "execution_count": 1,
   "id": "a789fedd",
   "metadata": {},
   "outputs": [
    {
     "name": "stderr",
     "output_type": "stream",
     "text": [
      "C:\\Users\\Taaha Ikram\\anaconda3\\lib\\site-packages\\scipy\\__init__.py:146: UserWarning: A NumPy version >=1.16.5 and <1.23.0 is required for this version of SciPy (detected version 1.26.2\n",
      "  warnings.warn(f\"A NumPy version >={np_minversion} and <{np_maxversion}\"\n"
     ]
    },
    {
     "name": "stdout",
     "output_type": "stream",
     "text": [
      "WARNING:tensorflow:From C:\\Users\\Taaha Ikram\\anaconda3\\lib\\site-packages\\keras\\src\\losses.py:2976: The name tf.losses.sparse_softmax_cross_entropy is deprecated. Please use tf.compat.v1.losses.sparse_softmax_cross_entropy instead.\n",
      "\n"
     ]
    }
   ],
   "source": [
    "import pyodbc\n",
    "import pandas as pd\n",
    "import keras\n",
    "from keras.preprocessing.text import Tokenizer\n",
    "from keras.preprocessing.sequence import pad_sequences\n",
    "from keras.layers import Embedding, LSTM, Dense\n",
    "from keras.models import Sequential\n",
    "\n",
    "server = 'cyse492group8.database.windows.net'\n",
    "database = 'CYSE492_Project'\n",
    "username = 'cyseadmin'\n",
    "password = 'GroupProject492'\n",
    "conn = pyodbc.connect('DRIVER={SQL Server};SERVER='+server+';DATABASE='+database+';UID='+username+';PWD='+ password)\n",
    "cursor = conn.cursor()"
   ]
  },
  {
   "cell_type": "code",
   "execution_count": 2,
   "id": "fdf2a5f6",
   "metadata": {},
   "outputs": [],
   "source": [
    "cursor.execute(\"SELECT [Control Identifier],[Control Text]  FROM [dbo].['NIST_800.53_controls$']\")\n",
    "\n",
    "labels = []\n",
    "texts = []\n",
    "for row in cursor:\n",
    "    texts.append(row[1])\n",
    "    if 'AC' in row[0]:\n",
    "        labels.append(1)\n",
    "    if 'AT' in row[0]:\n",
    "        labels.append(2)\n",
    "    if 'AU' in row[0]:\n",
    "        labels.append(3)\n",
    "    if 'CA' in row[0]:\n",
    "        labels.append(4)\n",
    "    if 'CM' in row[0]:\n",
    "        labels.append(5)\n",
    "    if 'CP' in row[0]:\n",
    "        labels.append(6)\n",
    "    if 'IA' in row[0]:\n",
    "        labels.append(7)\n",
    "    if 'IR' in row[0]:\n",
    "        labels.append(8)\n",
    "    if 'MA' in row[0]:\n",
    "        labels.append(9)\n",
    "    if 'MP' in row[0]:\n",
    "        labels.append(10)\n",
    "    if 'PE' in row[0]:\n",
    "        labels.append(11)\n",
    "    if 'PL' in row[0]:\n",
    "        labels.append(12)\n",
    "    if 'PM' in row[0]:\n",
    "        labels.append(13)\n",
    "    if 'PS' in row[0]:\n",
    "        labels.append(14)\n",
    "    if 'PT' in row[0]:\n",
    "        labels.append(15)\n",
    "    if 'RA' in row[0]:\n",
    "        labels.append(16)\n",
    "    if 'SA' in row[0]:\n",
    "        labels.append(17)\n",
    "    if 'SC' in row[0]:\n",
    "        labels.append(18)\n",
    "    if 'SI' in row[0]:\n",
    "        labels.append(19)\n",
    "    if 'SR' in row[0]:\n",
    "        labels.append(20)"
   ]
  },
  {
   "cell_type": "code",
   "execution_count": 3,
   "id": "899e28de",
   "metadata": {},
   "outputs": [
    {
     "name": "stdout",
     "output_type": "stream",
     "text": [
      "WARNING:tensorflow:From C:\\Users\\Taaha Ikram\\anaconda3\\lib\\site-packages\\keras\\src\\backend.py:873: The name tf.get_default_graph is deprecated. Please use tf.compat.v1.get_default_graph instead.\n",
      "\n",
      "WARNING:tensorflow:From C:\\Users\\Taaha Ikram\\anaconda3\\lib\\site-packages\\keras\\src\\optimizers\\__init__.py:309: The name tf.train.Optimizer is deprecated. Please use tf.compat.v1.train.Optimizer instead.\n",
      "\n",
      "Epoch 1/10\n",
      "WARNING:tensorflow:From C:\\Users\\Taaha Ikram\\anaconda3\\lib\\site-packages\\keras\\src\\utils\\tf_utils.py:492: The name tf.ragged.RaggedTensorValue is deprecated. Please use tf.compat.v1.ragged.RaggedTensorValue instead.\n",
      "\n",
      "WARNING:tensorflow:From C:\\Users\\Taaha Ikram\\anaconda3\\lib\\site-packages\\keras\\src\\engine\\base_layer_utils.py:384: The name tf.executing_eagerly_outside_functions is deprecated. Please use tf.compat.v1.executing_eagerly_outside_functions instead.\n",
      "\n",
      "38/38 [==============================] - 6s 54ms/step - loss: 2.8908 - accuracy: 0.1262\n",
      "Epoch 2/10\n",
      "38/38 [==============================] - 2s 56ms/step - loss: 2.7094 - accuracy: 0.1564\n",
      "Epoch 3/10\n",
      "38/38 [==============================] - 2s 57ms/step - loss: 2.5488 - accuracy: 0.2161\n",
      "Epoch 4/10\n",
      "38/38 [==============================] - 2s 57ms/step - loss: 2.2569 - accuracy: 0.3625\n",
      "Epoch 5/10\n",
      "38/38 [==============================] - 2s 56ms/step - loss: 1.9337 - accuracy: 0.4449\n",
      "Epoch 6/10\n",
      "38/38 [==============================] - 2s 54ms/step - loss: 1.6488 - accuracy: 0.5542\n",
      "Epoch 7/10\n",
      "38/38 [==============================] - 2s 58ms/step - loss: 1.3429 - accuracy: 0.6375\n",
      "Epoch 8/10\n",
      "38/38 [==============================] - 2s 56ms/step - loss: 1.2979 - accuracy: 0.6384\n",
      "Epoch 9/10\n",
      "38/38 [==============================] - 2s 56ms/step - loss: 1.0667 - accuracy: 0.7267\n",
      "Epoch 10/10\n",
      "38/38 [==============================] - 2s 57ms/step - loss: 0.9216 - accuracy: 0.7519\n"
     ]
    },
    {
     "data": {
      "text/plain": [
       "<keras.src.callbacks.History at 0x167a04d7dc0>"
      ]
     },
     "execution_count": 3,
     "metadata": {},
     "output_type": "execute_result"
    }
   ],
   "source": [
    "# Hyperparameters\n",
    "max_words = 10000 # max number of words to use in the vocabulary\n",
    "max_len = 100 # max length of each text (in terms of number of words)\n",
    "embedding_dim = 100 # dimension of word embeddings\n",
    "lstm_units = 64 # number of units in the LSTM layer\n",
    "num_classes = len(set(labels)) + 1 # number of classes\n",
    "\n",
    "# Tokenize the texts and create a vocabulary\n",
    "tokenizer = Tokenizer(num_words=max_words)\n",
    "tokenizer.fit_on_texts(texts)\n",
    "sequences = tokenizer.texts_to_sequences(texts)\n",
    "\n",
    "# Pad the sequences so they all have the same length\n",
    "x = pad_sequences(sequences, maxlen=max_len)\n",
    "\n",
    "# Create one-hot encoded labels\n",
    "y = keras.utils.to_categorical(labels, num_classes)\n",
    "\n",
    "# Build the model\n",
    "model = Sequential()\n",
    "model.add(Embedding(max_words, embedding_dim, input_length=max_len))\n",
    "model.add(LSTM(lstm_units))\n",
    "model.add(Dense(num_classes, activation='softmax'))\n",
    "\n",
    "# Compile the model\n",
    "model.compile(loss='categorical_crossentropy', optimizer='adam', metrics=['accuracy'])\n",
    "\n",
    "# Train the model\n",
    "model.fit(x, y, batch_size=32, epochs=10)"
   ]
  },
  {
   "cell_type": "code",
   "execution_count": null,
   "id": "79870962",
   "metadata": {},
   "outputs": [],
   "source": []
  }
 ],
 "metadata": {
  "kernelspec": {
   "display_name": "Python 3",
   "language": "python",
   "name": "python3"
  },
  "language_info": {
   "codemirror_mode": {
    "name": "ipython",
    "version": 3
   },
   "file_extension": ".py",
   "mimetype": "text/x-python",
   "name": "python",
   "nbconvert_exporter": "python",
   "pygments_lexer": "ipython3",
   "version": "3.9.12"
  }
 },
 "nbformat": 4,
 "nbformat_minor": 5
}
