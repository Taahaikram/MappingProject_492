{
    "metadata": {
        "kernelspec": {
            "name": "python3",
            "display_name": "Python 3",
            "language": "python"
        },
        "language_info": {
            "name": "python",
            "version": "3.8.10",
            "mimetype": "text/x-python",
            "codemirror_mode": {
                "name": "ipython",
                "version": 3
            },
            "pygments_lexer": "ipython3",
            "nbconvert_exporter": "python",
            "file_extension": ".py"
        }
    },
    "nbformat_minor": 2,
    "nbformat": 4,
    "cells": [
        {
            "cell_type": "code",
            "source": [
                "import pyodbc\r\n",
                "import pandas as pd\r\n",
                "\r\n",
                "server = 'cyse492group8.database.windows.net'\r\n",
                "database = 'CYSE492_Project'\r\n",
                "username = 'cyseadmin'\r\n",
                "password = 'GroupProject492'\r\n",
                "conn = pyodbc.connect('DRIVER={SQL Server};SERVER='+server+';DATABASE='+database+';UID='+username+';PWD='+ password)\r\n",
                "cursor = conn.cursor()\r\n",
                "\r\n",
                "quer = \"SELECT TOP (1000) [Control Identifier] ,[Control (or Control Enhancement) Name] ,[Control Text] ,[Discussion] ,[Related Controls] FROM [dbo].['NIST_800.53_controls$']\"\r\n",
                "\r\n",
                "df = pd.read_sql_query(quer, conn)\r\n",
                "print(df.head(5))"
            ],
            "metadata": {
                "azdata_cell_guid": "60419e21-00a3-4b48-babe-8eb59c82c9fa",
                "language": "python",
                "tags": []
            },
            "outputs": [
                {
                    "name": "stderr",
                    "text": "<ipython-input-12-e85903b77c0c>:13: UserWarning: pandas only supports SQLAlchemy connectable (engine/connection) or database string URI or sqlite3 DBAPI2 connection. Other DBAPI2 objects are not tested. Please consider using SQLAlchemy.\n  df = pd.read_sql_query(quer, conn)\n",
                    "output_type": "stream"
                },
                {
                    "name": "stdout",
                    "text": "  Control Identifier              Control (or Control Enhancement) Name  \\\n0               AC-1                              Policy and Procedures   \n1               AC-2                                 Account Management   \n2            AC-2(1)  Account Management | Automated System Account ...   \n3            AC-2(2)  Account Management | Automated Temporary and E...   \n4            AC-2(3)              Account Management | Disable Accounts   \n\n                                        Control Text  \\\n0  a. Develop, document, and disseminate to [Assi...   \n1  a. Define and document the types of accounts a...   \n2  Support the management of system accounts usin...   \n3  Automatically [Selection: remove; disable] tem...   \n4  Disable accounts within [Assignment: organizat...   \n\n                                          Discussion  \\\n0  Access control policy and procedures address t...   \n1  Examples of system account types include indiv...   \n2  Automated system account management includes u...   \n3  Management of temporary and emergency accounts...   \n4  Disabling expired, inactive, or otherwise anom...   \n\n                                    Related Controls  \n0                   IA-1, PM-9, PM-24, PS-8, SI-12 .  \n1  AC-3, AC-5, AC-6, AC-17, AC-18, AC-20, AC-24, ...  \n2                                              None.  \n3                                              None.  \n4                                              None.  \n",
                    "output_type": "stream"
                }
            ],
            "execution_count": 12
        }
    ]
}
