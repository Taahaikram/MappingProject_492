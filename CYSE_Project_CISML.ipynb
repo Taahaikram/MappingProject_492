{
 "cells": [
  {
   "cell_type": "code",
   "execution_count": 48,
   "id": "9f34da5a",
   "metadata": {},
   "outputs": [],
   "source": [
    "import pyodbc\n",
    "import pandas as pd\n",
    "import keras\n",
    "from keras.preprocessing.text import Tokenizer\n",
    "from keras.preprocessing.sequence import pad_sequences\n",
    "from keras.layers import Embedding, LSTM, Dense\n",
    "from keras.models import Sequential\n",
    "from keras.models import load_model\n",
    "import random\n",
    "import numpy as np\n",
    "import tensorflow as tf\n",
    "\n",
    "server = 'cyse492group8.database.windows.net'\n",
    "database = 'CYSE492_Project'\n",
    "username = 'cyseadmin'\n",
    "password = 'GroupProject492'\n",
    "conn = pyodbc.connect('DRIVER={SQL Server};SERVER='+server+';DATABASE='+database+';UID='+username+';PWD='+ password)\n",
    "cursor = conn.cursor()"
   ]
  },
  {
   "cell_type": "code",
   "execution_count": 65,
   "id": "f875b99f",
   "metadata": {},
   "outputs": [
    {
     "name": "stdout",
     "output_type": "stream",
     "text": [
      "1189\n"
     ]
    }
   ],
   "source": [
    "cursor.execute(\"SELECT [Control Identifier],[Control Text]  FROM [dbo].['NIST_800.53_controls$']\")\n",
    "\n",
    "labels = []\n",
    "texts = []\n",
    "for row in cursor:\n",
    "    texts.append(row[1])\n",
    "    if 'AC' in row[0]:\n",
    "        labels.append(1)\n",
    "    if 'AT' in row[0]:\n",
    "        labels.append(2)\n",
    "    if 'AU' in row[0]:\n",
    "        labels.append(3)\n",
    "    if 'CA' in row[0]:\n",
    "        labels.append(4)\n",
    "    if 'CM' in row[0]:\n",
    "        labels.append(5)\n",
    "    if 'CP' in row[0]:\n",
    "        labels.append(6)\n",
    "    if 'IA' in row[0]:\n",
    "        labels.append(7)\n",
    "    if 'IR' in row[0]:\n",
    "        labels.append(8)\n",
    "    if 'MA' in row[0]:\n",
    "        labels.append(9)\n",
    "    if 'MP' in row[0]:\n",
    "        labels.append(10)\n",
    "    if 'PE' in row[0]:\n",
    "        labels.append(11)\n",
    "    if 'PL' in row[0]:\n",
    "        labels.append(12)\n",
    "    if 'PM' in row[0]:\n",
    "        labels.append(13)\n",
    "    if 'PS' in row[0]:\n",
    "        labels.append(14)\n",
    "    if 'PT' in row[0]:\n",
    "        labels.append(15)\n",
    "    if 'RA' in row[0]:\n",
    "        labels.append(16)\n",
    "    if 'SA' in row[0]:\n",
    "        labels.append(17)\n",
    "    if 'SC' in row[0]:\n",
    "        labels.append(18)\n",
    "    if 'SI' in row[0]:\n",
    "        labels.append(19)\n",
    "    if 'SR' in row[0]:\n",
    "        labels.append(20)\n",
    "\n",
    "x_test = []\n",
    "y_test = []\n",
    "x_act = np.array(texts)\n",
    "y_act = np.array(labels)\n",
    "print(len(labels))"
   ]
  },
  {
   "cell_type": "code",
   "execution_count": 3,
   "id": "b08b5fb5-827c-4973-a3c0-24d5b7e131e2",
   "metadata": {},
   "outputs": [
    {
     "name": "stdout",
     "output_type": "stream",
     "text": [
      "1189\n",
      "1189\n"
     ]
    }
   ],
   "source": [
    "print(len((x_act)))\n",
    "print(len((y_act)))"
   ]
  },
  {
   "cell_type": "code",
   "execution_count": 4,
   "id": "9d69e1b2-0015-497d-b33a-80e8823828d9",
   "metadata": {},
   "outputs": [
    {
     "name": "stdout",
     "output_type": "stream",
     "text": [
      "WARNING:tensorflow:From C:\\Users\\sider\\anaconda3\\Lib\\site-packages\\keras\\src\\backend.py:873: The name tf.get_default_graph is deprecated. Please use tf.compat.v1.get_default_graph instead.\n",
      "\n",
      "WARNING:tensorflow:From C:\\Users\\sider\\anaconda3\\Lib\\site-packages\\keras\\src\\optimizers\\__init__.py:309: The name tf.train.Optimizer is deprecated. Please use tf.compat.v1.train.Optimizer instead.\n",
      "\n",
      "Epoch 1/20\n",
      "WARNING:tensorflow:From C:\\Users\\sider\\anaconda3\\Lib\\site-packages\\keras\\src\\utils\\tf_utils.py:492: The name tf.ragged.RaggedTensorValue is deprecated. Please use tf.compat.v1.ragged.RaggedTensorValue instead.\n",
      "\n",
      "WARNING:tensorflow:From C:\\Users\\sider\\anaconda3\\Lib\\site-packages\\keras\\src\\engine\\base_layer_utils.py:384: The name tf.executing_eagerly_outside_functions is deprecated. Please use tf.compat.v1.executing_eagerly_outside_functions instead.\n",
      "\n",
      "38/38 [==============================] - 31s 460ms/step - loss: 2.9107 - accuracy: 0.1161\n",
      "Epoch 2/20\n",
      "38/38 [==============================] - 20s 516ms/step - loss: 2.6012 - accuracy: 0.2271\n",
      "Epoch 3/20\n",
      "38/38 [==============================] - 19s 510ms/step - loss: 2.1533 - accuracy: 0.4054\n",
      "Epoch 4/20\n",
      "38/38 [==============================] - 20s 530ms/step - loss: 1.7049 - accuracy: 0.5786\n",
      "Epoch 5/20\n",
      "38/38 [==============================] - 19s 501ms/step - loss: 1.3361 - accuracy: 0.7014\n",
      "Epoch 6/20\n",
      "38/38 [==============================] - 18s 483ms/step - loss: 1.0456 - accuracy: 0.7889\n",
      "Epoch 7/20\n",
      "38/38 [==============================] - 18s 476ms/step - loss: 0.8393 - accuracy: 0.8419\n",
      "Epoch 8/20\n",
      "38/38 [==============================] - 22s 569ms/step - loss: 0.6491 - accuracy: 0.8923\n",
      "Epoch 9/20\n",
      "38/38 [==============================] - 19s 499ms/step - loss: 0.5070 - accuracy: 0.9251\n",
      "Epoch 10/20\n",
      "38/38 [==============================] - 17s 438ms/step - loss: 0.4163 - accuracy: 0.9310\n",
      "Epoch 11/20\n",
      "38/38 [==============================] - 18s 469ms/step - loss: 0.3341 - accuracy: 0.9437\n",
      "Epoch 12/20\n",
      "38/38 [==============================] - 12s 318ms/step - loss: 0.2709 - accuracy: 0.9588\n",
      "Epoch 13/20\n",
      "38/38 [==============================] - 15s 403ms/step - loss: 0.2244 - accuracy: 0.9630\n",
      "Epoch 14/20\n",
      "38/38 [==============================] - 16s 431ms/step - loss: 0.2424 - accuracy: 0.9588\n",
      "Epoch 15/20\n",
      "38/38 [==============================] - 17s 452ms/step - loss: 0.2226 - accuracy: 0.9588\n",
      "Epoch 16/20\n",
      "38/38 [==============================] - 19s 495ms/step - loss: 0.1741 - accuracy: 0.9672\n",
      "Epoch 17/20\n",
      "38/38 [==============================] - 20s 517ms/step - loss: 0.1376 - accuracy: 0.9765\n",
      "Epoch 18/20\n",
      "38/38 [==============================] - 18s 470ms/step - loss: 0.1154 - accuracy: 0.9798\n",
      "Epoch 19/20\n",
      "38/38 [==============================] - 17s 451ms/step - loss: 0.1303 - accuracy: 0.9722\n",
      "Epoch 20/20\n",
      "38/38 [==============================] - 17s 455ms/step - loss: 0.1442 - accuracy: 0.9697\n"
     ]
    }
   ],
   "source": [
    "# Hyperparameters\n",
    "max_words = 15000 # max number of words to use in the vocabulary was 15k\n",
    "max_len = 400 # max length of each text (in terms of number of words) 250\n",
    "embedding_dim = 400 # dimension of word embeddings was 100\n",
    "lstm_units = 32 # number of units in the LSTM layer\n",
    "# num_classes = len(set(labels)) + 1 # number of classes\n",
    "num_classes = len(set(y_act)) + 1 # number of classes\n",
    "#num_classes2 = len(set(y_test)) + 1\n",
    "\n",
    "# Tokenize the texts and create a vocabulary\n",
    "tokenizer = Tokenizer(num_words=max_words)\n",
    "tokenizer.fit_on_texts(x_act)\n",
    "sequences = tokenizer.texts_to_sequences(x_act)\n",
    "\n",
    "# Pad the sequences so they all have the same length\n",
    "x = pad_sequences(sequences, maxlen=max_len)\n",
    "\n",
    "\n",
    "# Create one-hot encoded labels\n",
    "y = keras.utils.to_categorical(y_act, num_classes)\n",
    "\n",
    "# y_test = keras.utils.to_categorical(y_test, num_classes)\n",
    "# Build the model\n",
    "model = Sequential()\n",
    "model.add(Embedding(max_words, embedding_dim, input_length=max_len))\n",
    "model.add(LSTM(lstm_units))\n",
    "model.add(Dense(num_classes, activation='softmax'))\n",
    "\n",
    "# Compile the model\n",
    "model.compile(loss='categorical_crossentropy', optimizer='adam', metrics=['accuracy'])\n",
    "\n",
    "# Train the model\n",
    "history = model.fit(x, y, batch_size=32, epochs=20)# was 32,20\n"
   ]
  },
  {
   "cell_type": "code",
   "execution_count": 25,
   "id": "e83636de-a726-4a07-b6dd-e95a5737ed48",
   "metadata": {},
   "outputs": [
    {
     "name": "stdout",
     "output_type": "stream",
     "text": [
      "Epoch 1/20\n",
      "38/38 [==============================] - 7s 182ms/step - loss: 0.0139 - accuracy: 0.9924\n",
      "Epoch 2/20\n",
      "38/38 [==============================] - 8s 210ms/step - loss: 0.0137 - accuracy: 0.9933\n",
      "Epoch 3/20\n",
      "31/38 [=======================>......] - ETA: 1s - loss: 0.0138 - accuracy: 0.9929"
     ]
    },
    {
     "ename": "KeyboardInterrupt",
     "evalue": "",
     "output_type": "error",
     "traceback": [
      "\u001b[1;31m---------------------------------------------------------------------------\u001b[0m",
      "\u001b[1;31mKeyboardInterrupt\u001b[0m                         Traceback (most recent call last)",
      "Cell \u001b[1;32mIn[25], line 15\u001b[0m\n\u001b[0;32m     12\u001b[0m y \u001b[38;5;241m=\u001b[39m keras\u001b[38;5;241m.\u001b[39mutils\u001b[38;5;241m.\u001b[39mto_categorical(y_act, num_classes)\n\u001b[0;32m     14\u001b[0m \u001b[38;5;28;01mfor\u001b[39;00m loop10 \u001b[38;5;129;01min\u001b[39;00m \u001b[38;5;28mrange\u001b[39m(\u001b[38;5;241m2\u001b[39m):\n\u001b[1;32m---> 15\u001b[0m     history \u001b[38;5;241m=\u001b[39m \u001b[43mmodel\u001b[49m\u001b[38;5;241;43m.\u001b[39;49m\u001b[43mfit\u001b[49m\u001b[43m(\u001b[49m\u001b[43mx\u001b[49m\u001b[43m,\u001b[49m\u001b[43m \u001b[49m\u001b[43my\u001b[49m\u001b[43m,\u001b[49m\u001b[43m \u001b[49m\u001b[43mbatch_size\u001b[49m\u001b[38;5;241;43m=\u001b[39;49m\u001b[38;5;241;43m32\u001b[39;49m\u001b[43m,\u001b[49m\u001b[43m \u001b[49m\u001b[43mepochs\u001b[49m\u001b[38;5;241;43m=\u001b[39;49m\u001b[38;5;241;43m20\u001b[39;49m\u001b[43m)\u001b[49m\u001b[38;5;66;03m# was 32,20\u001b[39;00m\n",
      "File \u001b[1;32m~\\anaconda3\\Lib\\site-packages\\keras\\src\\utils\\traceback_utils.py:65\u001b[0m, in \u001b[0;36mfilter_traceback.<locals>.error_handler\u001b[1;34m(*args, **kwargs)\u001b[0m\n\u001b[0;32m     63\u001b[0m filtered_tb \u001b[38;5;241m=\u001b[39m \u001b[38;5;28;01mNone\u001b[39;00m\n\u001b[0;32m     64\u001b[0m \u001b[38;5;28;01mtry\u001b[39;00m:\n\u001b[1;32m---> 65\u001b[0m     \u001b[38;5;28;01mreturn\u001b[39;00m \u001b[43mfn\u001b[49m\u001b[43m(\u001b[49m\u001b[38;5;241;43m*\u001b[39;49m\u001b[43margs\u001b[49m\u001b[43m,\u001b[49m\u001b[43m \u001b[49m\u001b[38;5;241;43m*\u001b[39;49m\u001b[38;5;241;43m*\u001b[39;49m\u001b[43mkwargs\u001b[49m\u001b[43m)\u001b[49m\n\u001b[0;32m     66\u001b[0m \u001b[38;5;28;01mexcept\u001b[39;00m \u001b[38;5;167;01mException\u001b[39;00m \u001b[38;5;28;01mas\u001b[39;00m e:\n\u001b[0;32m     67\u001b[0m     filtered_tb \u001b[38;5;241m=\u001b[39m _process_traceback_frames(e\u001b[38;5;241m.\u001b[39m__traceback__)\n",
      "File \u001b[1;32m~\\anaconda3\\Lib\\site-packages\\keras\\src\\engine\\training.py:1807\u001b[0m, in \u001b[0;36mModel.fit\u001b[1;34m(self, x, y, batch_size, epochs, verbose, callbacks, validation_split, validation_data, shuffle, class_weight, sample_weight, initial_epoch, steps_per_epoch, validation_steps, validation_batch_size, validation_freq, max_queue_size, workers, use_multiprocessing)\u001b[0m\n\u001b[0;32m   1799\u001b[0m \u001b[38;5;28;01mwith\u001b[39;00m tf\u001b[38;5;241m.\u001b[39mprofiler\u001b[38;5;241m.\u001b[39mexperimental\u001b[38;5;241m.\u001b[39mTrace(\n\u001b[0;32m   1800\u001b[0m     \u001b[38;5;124m\"\u001b[39m\u001b[38;5;124mtrain\u001b[39m\u001b[38;5;124m\"\u001b[39m,\n\u001b[0;32m   1801\u001b[0m     epoch_num\u001b[38;5;241m=\u001b[39mepoch,\n\u001b[1;32m   (...)\u001b[0m\n\u001b[0;32m   1804\u001b[0m     _r\u001b[38;5;241m=\u001b[39m\u001b[38;5;241m1\u001b[39m,\n\u001b[0;32m   1805\u001b[0m ):\n\u001b[0;32m   1806\u001b[0m     callbacks\u001b[38;5;241m.\u001b[39mon_train_batch_begin(step)\n\u001b[1;32m-> 1807\u001b[0m     tmp_logs \u001b[38;5;241m=\u001b[39m \u001b[38;5;28;43mself\u001b[39;49m\u001b[38;5;241;43m.\u001b[39;49m\u001b[43mtrain_function\u001b[49m\u001b[43m(\u001b[49m\u001b[43miterator\u001b[49m\u001b[43m)\u001b[49m\n\u001b[0;32m   1808\u001b[0m     \u001b[38;5;28;01mif\u001b[39;00m data_handler\u001b[38;5;241m.\u001b[39mshould_sync:\n\u001b[0;32m   1809\u001b[0m         context\u001b[38;5;241m.\u001b[39masync_wait()\n",
      "File \u001b[1;32m~\\anaconda3\\Lib\\site-packages\\tensorflow\\python\\util\\traceback_utils.py:150\u001b[0m, in \u001b[0;36mfilter_traceback.<locals>.error_handler\u001b[1;34m(*args, **kwargs)\u001b[0m\n\u001b[0;32m    148\u001b[0m filtered_tb \u001b[38;5;241m=\u001b[39m \u001b[38;5;28;01mNone\u001b[39;00m\n\u001b[0;32m    149\u001b[0m \u001b[38;5;28;01mtry\u001b[39;00m:\n\u001b[1;32m--> 150\u001b[0m   \u001b[38;5;28;01mreturn\u001b[39;00m \u001b[43mfn\u001b[49m\u001b[43m(\u001b[49m\u001b[38;5;241;43m*\u001b[39;49m\u001b[43margs\u001b[49m\u001b[43m,\u001b[49m\u001b[43m \u001b[49m\u001b[38;5;241;43m*\u001b[39;49m\u001b[38;5;241;43m*\u001b[39;49m\u001b[43mkwargs\u001b[49m\u001b[43m)\u001b[49m\n\u001b[0;32m    151\u001b[0m \u001b[38;5;28;01mexcept\u001b[39;00m \u001b[38;5;167;01mException\u001b[39;00m \u001b[38;5;28;01mas\u001b[39;00m e:\n\u001b[0;32m    152\u001b[0m   filtered_tb \u001b[38;5;241m=\u001b[39m _process_traceback_frames(e\u001b[38;5;241m.\u001b[39m__traceback__)\n",
      "File \u001b[1;32m~\\anaconda3\\Lib\\site-packages\\tensorflow\\python\\eager\\polymorphic_function\\polymorphic_function.py:832\u001b[0m, in \u001b[0;36mFunction.__call__\u001b[1;34m(self, *args, **kwds)\u001b[0m\n\u001b[0;32m    829\u001b[0m compiler \u001b[38;5;241m=\u001b[39m \u001b[38;5;124m\"\u001b[39m\u001b[38;5;124mxla\u001b[39m\u001b[38;5;124m\"\u001b[39m \u001b[38;5;28;01mif\u001b[39;00m \u001b[38;5;28mself\u001b[39m\u001b[38;5;241m.\u001b[39m_jit_compile \u001b[38;5;28;01melse\u001b[39;00m \u001b[38;5;124m\"\u001b[39m\u001b[38;5;124mnonXla\u001b[39m\u001b[38;5;124m\"\u001b[39m\n\u001b[0;32m    831\u001b[0m \u001b[38;5;28;01mwith\u001b[39;00m OptionalXlaContext(\u001b[38;5;28mself\u001b[39m\u001b[38;5;241m.\u001b[39m_jit_compile):\n\u001b[1;32m--> 832\u001b[0m   result \u001b[38;5;241m=\u001b[39m \u001b[38;5;28;43mself\u001b[39;49m\u001b[38;5;241;43m.\u001b[39;49m\u001b[43m_call\u001b[49m\u001b[43m(\u001b[49m\u001b[38;5;241;43m*\u001b[39;49m\u001b[43margs\u001b[49m\u001b[43m,\u001b[49m\u001b[43m \u001b[49m\u001b[38;5;241;43m*\u001b[39;49m\u001b[38;5;241;43m*\u001b[39;49m\u001b[43mkwds\u001b[49m\u001b[43m)\u001b[49m\n\u001b[0;32m    834\u001b[0m new_tracing_count \u001b[38;5;241m=\u001b[39m \u001b[38;5;28mself\u001b[39m\u001b[38;5;241m.\u001b[39mexperimental_get_tracing_count()\n\u001b[0;32m    835\u001b[0m without_tracing \u001b[38;5;241m=\u001b[39m (tracing_count \u001b[38;5;241m==\u001b[39m new_tracing_count)\n",
      "File \u001b[1;32m~\\anaconda3\\Lib\\site-packages\\tensorflow\\python\\eager\\polymorphic_function\\polymorphic_function.py:868\u001b[0m, in \u001b[0;36mFunction._call\u001b[1;34m(self, *args, **kwds)\u001b[0m\n\u001b[0;32m    865\u001b[0m   \u001b[38;5;28mself\u001b[39m\u001b[38;5;241m.\u001b[39m_lock\u001b[38;5;241m.\u001b[39mrelease()\n\u001b[0;32m    866\u001b[0m   \u001b[38;5;66;03m# In this case we have created variables on the first call, so we run the\u001b[39;00m\n\u001b[0;32m    867\u001b[0m   \u001b[38;5;66;03m# defunned version which is guaranteed to never create variables.\u001b[39;00m\n\u001b[1;32m--> 868\u001b[0m   \u001b[38;5;28;01mreturn\u001b[39;00m \u001b[43mtracing_compilation\u001b[49m\u001b[38;5;241;43m.\u001b[39;49m\u001b[43mcall_function\u001b[49m\u001b[43m(\u001b[49m\n\u001b[0;32m    869\u001b[0m \u001b[43m      \u001b[49m\u001b[43margs\u001b[49m\u001b[43m,\u001b[49m\u001b[43m \u001b[49m\u001b[43mkwds\u001b[49m\u001b[43m,\u001b[49m\u001b[43m \u001b[49m\u001b[38;5;28;43mself\u001b[39;49m\u001b[38;5;241;43m.\u001b[39;49m\u001b[43m_no_variable_creation_config\u001b[49m\n\u001b[0;32m    870\u001b[0m \u001b[43m  \u001b[49m\u001b[43m)\u001b[49m\n\u001b[0;32m    871\u001b[0m \u001b[38;5;28;01melif\u001b[39;00m \u001b[38;5;28mself\u001b[39m\u001b[38;5;241m.\u001b[39m_variable_creation_config \u001b[38;5;129;01mis\u001b[39;00m \u001b[38;5;129;01mnot\u001b[39;00m \u001b[38;5;28;01mNone\u001b[39;00m:\n\u001b[0;32m    872\u001b[0m   \u001b[38;5;66;03m# Release the lock early so that multiple threads can perform the call\u001b[39;00m\n\u001b[0;32m    873\u001b[0m   \u001b[38;5;66;03m# in parallel.\u001b[39;00m\n\u001b[0;32m    874\u001b[0m   \u001b[38;5;28mself\u001b[39m\u001b[38;5;241m.\u001b[39m_lock\u001b[38;5;241m.\u001b[39mrelease()\n",
      "File \u001b[1;32m~\\anaconda3\\Lib\\site-packages\\tensorflow\\python\\eager\\polymorphic_function\\tracing_compilation.py:139\u001b[0m, in \u001b[0;36mcall_function\u001b[1;34m(args, kwargs, tracing_options)\u001b[0m\n\u001b[0;32m    137\u001b[0m bound_args \u001b[38;5;241m=\u001b[39m function\u001b[38;5;241m.\u001b[39mfunction_type\u001b[38;5;241m.\u001b[39mbind(\u001b[38;5;241m*\u001b[39margs, \u001b[38;5;241m*\u001b[39m\u001b[38;5;241m*\u001b[39mkwargs)\n\u001b[0;32m    138\u001b[0m flat_inputs \u001b[38;5;241m=\u001b[39m function\u001b[38;5;241m.\u001b[39mfunction_type\u001b[38;5;241m.\u001b[39munpack_inputs(bound_args)\n\u001b[1;32m--> 139\u001b[0m \u001b[38;5;28;01mreturn\u001b[39;00m \u001b[43mfunction\u001b[49m\u001b[38;5;241;43m.\u001b[39;49m\u001b[43m_call_flat\u001b[49m\u001b[43m(\u001b[49m\u001b[43m  \u001b[49m\u001b[38;5;66;43;03m# pylint: disable=protected-access\u001b[39;49;00m\n\u001b[0;32m    140\u001b[0m \u001b[43m    \u001b[49m\u001b[43mflat_inputs\u001b[49m\u001b[43m,\u001b[49m\u001b[43m \u001b[49m\u001b[43mcaptured_inputs\u001b[49m\u001b[38;5;241;43m=\u001b[39;49m\u001b[43mfunction\u001b[49m\u001b[38;5;241;43m.\u001b[39;49m\u001b[43mcaptured_inputs\u001b[49m\n\u001b[0;32m    141\u001b[0m \u001b[43m\u001b[49m\u001b[43m)\u001b[49m\n",
      "File \u001b[1;32m~\\anaconda3\\Lib\\site-packages\\tensorflow\\python\\eager\\polymorphic_function\\concrete_function.py:1323\u001b[0m, in \u001b[0;36mConcreteFunction._call_flat\u001b[1;34m(self, tensor_inputs, captured_inputs)\u001b[0m\n\u001b[0;32m   1319\u001b[0m possible_gradient_type \u001b[38;5;241m=\u001b[39m gradients_util\u001b[38;5;241m.\u001b[39mPossibleTapeGradientTypes(args)\n\u001b[0;32m   1320\u001b[0m \u001b[38;5;28;01mif\u001b[39;00m (possible_gradient_type \u001b[38;5;241m==\u001b[39m gradients_util\u001b[38;5;241m.\u001b[39mPOSSIBLE_GRADIENT_TYPES_NONE\n\u001b[0;32m   1321\u001b[0m     \u001b[38;5;129;01mand\u001b[39;00m executing_eagerly):\n\u001b[0;32m   1322\u001b[0m   \u001b[38;5;66;03m# No tape is watching; skip to running the function.\u001b[39;00m\n\u001b[1;32m-> 1323\u001b[0m   \u001b[38;5;28;01mreturn\u001b[39;00m \u001b[38;5;28;43mself\u001b[39;49m\u001b[38;5;241;43m.\u001b[39;49m\u001b[43m_inference_function\u001b[49m\u001b[38;5;241;43m.\u001b[39;49m\u001b[43mcall_preflattened\u001b[49m\u001b[43m(\u001b[49m\u001b[43margs\u001b[49m\u001b[43m)\u001b[49m\n\u001b[0;32m   1324\u001b[0m forward_backward \u001b[38;5;241m=\u001b[39m \u001b[38;5;28mself\u001b[39m\u001b[38;5;241m.\u001b[39m_select_forward_and_backward_functions(\n\u001b[0;32m   1325\u001b[0m     args,\n\u001b[0;32m   1326\u001b[0m     possible_gradient_type,\n\u001b[0;32m   1327\u001b[0m     executing_eagerly)\n\u001b[0;32m   1328\u001b[0m forward_function, args_with_tangents \u001b[38;5;241m=\u001b[39m forward_backward\u001b[38;5;241m.\u001b[39mforward()\n",
      "File \u001b[1;32m~\\anaconda3\\Lib\\site-packages\\tensorflow\\python\\eager\\polymorphic_function\\atomic_function.py:216\u001b[0m, in \u001b[0;36mAtomicFunction.call_preflattened\u001b[1;34m(self, args)\u001b[0m\n\u001b[0;32m    214\u001b[0m \u001b[38;5;28;01mdef\u001b[39;00m \u001b[38;5;21mcall_preflattened\u001b[39m(\u001b[38;5;28mself\u001b[39m, args: Sequence[core\u001b[38;5;241m.\u001b[39mTensor]) \u001b[38;5;241m-\u001b[39m\u001b[38;5;241m>\u001b[39m Any:\n\u001b[0;32m    215\u001b[0m \u001b[38;5;250m  \u001b[39m\u001b[38;5;124;03m\"\"\"Calls with flattened tensor inputs and returns the structured output.\"\"\"\u001b[39;00m\n\u001b[1;32m--> 216\u001b[0m   flat_outputs \u001b[38;5;241m=\u001b[39m \u001b[38;5;28;43mself\u001b[39;49m\u001b[38;5;241;43m.\u001b[39;49m\u001b[43mcall_flat\u001b[49m\u001b[43m(\u001b[49m\u001b[38;5;241;43m*\u001b[39;49m\u001b[43margs\u001b[49m\u001b[43m)\u001b[49m\n\u001b[0;32m    217\u001b[0m   \u001b[38;5;28;01mreturn\u001b[39;00m \u001b[38;5;28mself\u001b[39m\u001b[38;5;241m.\u001b[39mfunction_type\u001b[38;5;241m.\u001b[39mpack_output(flat_outputs)\n",
      "File \u001b[1;32m~\\anaconda3\\Lib\\site-packages\\tensorflow\\python\\eager\\polymorphic_function\\atomic_function.py:251\u001b[0m, in \u001b[0;36mAtomicFunction.call_flat\u001b[1;34m(self, *args)\u001b[0m\n\u001b[0;32m    249\u001b[0m \u001b[38;5;28;01mwith\u001b[39;00m record\u001b[38;5;241m.\u001b[39mstop_recording():\n\u001b[0;32m    250\u001b[0m   \u001b[38;5;28;01mif\u001b[39;00m \u001b[38;5;28mself\u001b[39m\u001b[38;5;241m.\u001b[39m_bound_context\u001b[38;5;241m.\u001b[39mexecuting_eagerly():\n\u001b[1;32m--> 251\u001b[0m     outputs \u001b[38;5;241m=\u001b[39m \u001b[38;5;28;43mself\u001b[39;49m\u001b[38;5;241;43m.\u001b[39;49m\u001b[43m_bound_context\u001b[49m\u001b[38;5;241;43m.\u001b[39;49m\u001b[43mcall_function\u001b[49m\u001b[43m(\u001b[49m\n\u001b[0;32m    252\u001b[0m \u001b[43m        \u001b[49m\u001b[38;5;28;43mself\u001b[39;49m\u001b[38;5;241;43m.\u001b[39;49m\u001b[43mname\u001b[49m\u001b[43m,\u001b[49m\n\u001b[0;32m    253\u001b[0m \u001b[43m        \u001b[49m\u001b[38;5;28;43mlist\u001b[39;49m\u001b[43m(\u001b[49m\u001b[43margs\u001b[49m\u001b[43m)\u001b[49m\u001b[43m,\u001b[49m\n\u001b[0;32m    254\u001b[0m \u001b[43m        \u001b[49m\u001b[38;5;28;43mlen\u001b[39;49m\u001b[43m(\u001b[49m\u001b[38;5;28;43mself\u001b[39;49m\u001b[38;5;241;43m.\u001b[39;49m\u001b[43mfunction_type\u001b[49m\u001b[38;5;241;43m.\u001b[39;49m\u001b[43mflat_outputs\u001b[49m\u001b[43m)\u001b[49m\u001b[43m,\u001b[49m\n\u001b[0;32m    255\u001b[0m \u001b[43m    \u001b[49m\u001b[43m)\u001b[49m\n\u001b[0;32m    256\u001b[0m   \u001b[38;5;28;01melse\u001b[39;00m:\n\u001b[0;32m    257\u001b[0m     outputs \u001b[38;5;241m=\u001b[39m make_call_op_in_graph(\n\u001b[0;32m    258\u001b[0m         \u001b[38;5;28mself\u001b[39m,\n\u001b[0;32m    259\u001b[0m         \u001b[38;5;28mlist\u001b[39m(args),\n\u001b[0;32m    260\u001b[0m         \u001b[38;5;28mself\u001b[39m\u001b[38;5;241m.\u001b[39m_bound_context\u001b[38;5;241m.\u001b[39mfunction_call_options\u001b[38;5;241m.\u001b[39mas_attrs(),\n\u001b[0;32m    261\u001b[0m     )\n",
      "File \u001b[1;32m~\\anaconda3\\Lib\\site-packages\\tensorflow\\python\\eager\\context.py:1486\u001b[0m, in \u001b[0;36mContext.call_function\u001b[1;34m(self, name, tensor_inputs, num_outputs)\u001b[0m\n\u001b[0;32m   1484\u001b[0m cancellation_context \u001b[38;5;241m=\u001b[39m cancellation\u001b[38;5;241m.\u001b[39mcontext()\n\u001b[0;32m   1485\u001b[0m \u001b[38;5;28;01mif\u001b[39;00m cancellation_context \u001b[38;5;129;01mis\u001b[39;00m \u001b[38;5;28;01mNone\u001b[39;00m:\n\u001b[1;32m-> 1486\u001b[0m   outputs \u001b[38;5;241m=\u001b[39m \u001b[43mexecute\u001b[49m\u001b[38;5;241;43m.\u001b[39;49m\u001b[43mexecute\u001b[49m\u001b[43m(\u001b[49m\n\u001b[0;32m   1487\u001b[0m \u001b[43m      \u001b[49m\u001b[43mname\u001b[49m\u001b[38;5;241;43m.\u001b[39;49m\u001b[43mdecode\u001b[49m\u001b[43m(\u001b[49m\u001b[38;5;124;43m\"\u001b[39;49m\u001b[38;5;124;43mutf-8\u001b[39;49m\u001b[38;5;124;43m\"\u001b[39;49m\u001b[43m)\u001b[49m\u001b[43m,\u001b[49m\n\u001b[0;32m   1488\u001b[0m \u001b[43m      \u001b[49m\u001b[43mnum_outputs\u001b[49m\u001b[38;5;241;43m=\u001b[39;49m\u001b[43mnum_outputs\u001b[49m\u001b[43m,\u001b[49m\n\u001b[0;32m   1489\u001b[0m \u001b[43m      \u001b[49m\u001b[43minputs\u001b[49m\u001b[38;5;241;43m=\u001b[39;49m\u001b[43mtensor_inputs\u001b[49m\u001b[43m,\u001b[49m\n\u001b[0;32m   1490\u001b[0m \u001b[43m      \u001b[49m\u001b[43mattrs\u001b[49m\u001b[38;5;241;43m=\u001b[39;49m\u001b[43mattrs\u001b[49m\u001b[43m,\u001b[49m\n\u001b[0;32m   1491\u001b[0m \u001b[43m      \u001b[49m\u001b[43mctx\u001b[49m\u001b[38;5;241;43m=\u001b[39;49m\u001b[38;5;28;43mself\u001b[39;49m\u001b[43m,\u001b[49m\n\u001b[0;32m   1492\u001b[0m \u001b[43m  \u001b[49m\u001b[43m)\u001b[49m\n\u001b[0;32m   1493\u001b[0m \u001b[38;5;28;01melse\u001b[39;00m:\n\u001b[0;32m   1494\u001b[0m   outputs \u001b[38;5;241m=\u001b[39m execute\u001b[38;5;241m.\u001b[39mexecute_with_cancellation(\n\u001b[0;32m   1495\u001b[0m       name\u001b[38;5;241m.\u001b[39mdecode(\u001b[38;5;124m\"\u001b[39m\u001b[38;5;124mutf-8\u001b[39m\u001b[38;5;124m\"\u001b[39m),\n\u001b[0;32m   1496\u001b[0m       num_outputs\u001b[38;5;241m=\u001b[39mnum_outputs,\n\u001b[1;32m   (...)\u001b[0m\n\u001b[0;32m   1500\u001b[0m       cancellation_manager\u001b[38;5;241m=\u001b[39mcancellation_context,\n\u001b[0;32m   1501\u001b[0m   )\n",
      "File \u001b[1;32m~\\anaconda3\\Lib\\site-packages\\tensorflow\\python\\eager\\execute.py:53\u001b[0m, in \u001b[0;36mquick_execute\u001b[1;34m(op_name, num_outputs, inputs, attrs, ctx, name)\u001b[0m\n\u001b[0;32m     51\u001b[0m \u001b[38;5;28;01mtry\u001b[39;00m:\n\u001b[0;32m     52\u001b[0m   ctx\u001b[38;5;241m.\u001b[39mensure_initialized()\n\u001b[1;32m---> 53\u001b[0m   tensors \u001b[38;5;241m=\u001b[39m \u001b[43mpywrap_tfe\u001b[49m\u001b[38;5;241;43m.\u001b[39;49m\u001b[43mTFE_Py_Execute\u001b[49m\u001b[43m(\u001b[49m\u001b[43mctx\u001b[49m\u001b[38;5;241;43m.\u001b[39;49m\u001b[43m_handle\u001b[49m\u001b[43m,\u001b[49m\u001b[43m \u001b[49m\u001b[43mdevice_name\u001b[49m\u001b[43m,\u001b[49m\u001b[43m \u001b[49m\u001b[43mop_name\u001b[49m\u001b[43m,\u001b[49m\n\u001b[0;32m     54\u001b[0m \u001b[43m                                      \u001b[49m\u001b[43minputs\u001b[49m\u001b[43m,\u001b[49m\u001b[43m \u001b[49m\u001b[43mattrs\u001b[49m\u001b[43m,\u001b[49m\u001b[43m \u001b[49m\u001b[43mnum_outputs\u001b[49m\u001b[43m)\u001b[49m\n\u001b[0;32m     55\u001b[0m \u001b[38;5;28;01mexcept\u001b[39;00m core\u001b[38;5;241m.\u001b[39m_NotOkStatusException \u001b[38;5;28;01mas\u001b[39;00m e:\n\u001b[0;32m     56\u001b[0m   \u001b[38;5;28;01mif\u001b[39;00m name \u001b[38;5;129;01mis\u001b[39;00m \u001b[38;5;129;01mnot\u001b[39;00m \u001b[38;5;28;01mNone\u001b[39;00m:\n",
      "\u001b[1;31mKeyboardInterrupt\u001b[0m: "
     ]
    }
   ],
   "source": [
    "#we like training\n",
    "# Tokenize the texts and create a vocabulary\n",
    "tokenizer = Tokenizer(num_words=max_words)\n",
    "tokenizer.fit_on_texts(x_act)\n",
    "sequences = tokenizer.texts_to_sequences(x_act)\n",
    "\n",
    "# Pad the sequences so they all have the same length\n",
    "x = pad_sequences(sequences, maxlen=max_len)\n",
    "\n",
    "\n",
    "# Create one-hot encoded labels\n",
    "y = keras.utils.to_categorical(y_act, num_classes)\n",
    "\n",
    "for loop10 in range(2):\n",
    "    history = model.fit(x, y, batch_size=32, epochs=20)# was 32,20"
   ]
  },
  {
   "cell_type": "code",
   "execution_count": 19,
   "id": "8fcc6c47-e1bd-4aca-88fd-736e41275721",
   "metadata": {},
   "outputs": [],
   "source": [
    "model.save('CYSE493_Group8_CISNIST_Model.keras')"
   ]
  },
  {
   "cell_type": "code",
   "execution_count": 49,
   "id": "27f99086-ecad-4e61-b748-9d2527e226b2",
   "metadata": {},
   "outputs": [],
   "source": [
    "model = load_model('CYSE493_Group8_CISNIST_Model.keras')"
   ]
  },
  {
   "cell_type": "code",
   "execution_count": 7,
   "id": "f1cdaea1-2d2c-4707-82ff-d1349efa64b8",
   "metadata": {},
   "outputs": [
    {
     "ename": "NameError",
     "evalue": "name 'x_test1' is not defined",
     "output_type": "error",
     "traceback": [
      "\u001b[1;31m---------------------------------------------------------------------------\u001b[0m",
      "\u001b[1;31mNameError\u001b[0m                                 Traceback (most recent call last)",
      "Cell \u001b[1;32mIn[7], line 1\u001b[0m\n\u001b[1;32m----> 1\u001b[0m x_test\u001b[38;5;241m=\u001b[39m\u001b[43mx_test1\u001b[49m\n\u001b[0;32m      2\u001b[0m y_test\u001b[38;5;241m=\u001b[39my_test1\n",
      "\u001b[1;31mNameError\u001b[0m: name 'x_test1' is not defined"
     ]
    }
   ],
   "source": [
    "x_test=x_test1\n",
    "y_test=y_test1"
   ]
  },
  {
   "cell_type": "code",
   "execution_count": null,
   "id": "ebde3d09-0bd4-49c7-b8ba-b4111da6b3ab",
   "metadata": {},
   "outputs": [],
   "source": [
    "###padding\n",
    "## reuse old tokenizer for x_test\n",
    "tokenizer = Tokenizer(num_words=max_words)\n",
    "tokenizer.fit_on_texts(x_act)\n",
    "sequences = tokenizer.texts_to_sequences(x_test)\n",
    "\n",
    "## Pad the sequences so they all have the same length\n",
    "x_test = pad_sequences(sequences, maxlen=max_len)\n",
    "y_test = keras.utils.to_categorical(y_test, num_classes)\n",
    "\n",
    "#Test the model     \n",
    "#If you want to test different x_test/y_test you can compile that section instead of retraining the whole thing again\n",
    "accr = model.evaluate(x_test,y_test) #x and y instead of test?\n",
    "print('Test set\\n  Loss: {:0.3f}\\n  Accuracy: {:0.3f}'.format(accr[0],accr[1]))\n",
    "\n",
    "#for i in range(10):\n",
    "#    result = tf.argmax(model.predict(tf.expand_dims(texts[i], 0)), axis=1)\n",
    "#    print(result.numpy(), labels[i])"
   ]
  },
  {
   "cell_type": "code",
   "execution_count": 66,
   "id": "662a4d6a-0e10-4831-93b9-6094ce8507e5",
   "metadata": {},
   "outputs": [
    {
     "name": "stdout",
     "output_type": "stream",
     "text": [
      "'NIST_800.53_controls$' is missing either description or label. Skipping\n",
      "'MITRE ATT&CK Filtering$' is missing either description or label. Skipping\n",
      "'NIST_800.53_baselines$' is missing either description or label. Skipping\n",
      "'MITRE ATT&CK Filtering$'_xlnm#_FilterDatabase is missing either description or label. Skipping\n",
      "CIS_Apple_macOS_12.0_Monterey_Benchmark_v3.0.0 License$ is missing either description or label. Skipping\n",
      "'MITRE ATT&CK Mappings$' is missing either description or label. Skipping\n",
      "'CIS_Apple_macOS_12.0_Monterey_Benchmark_v3.0.0 MITRE ATT&CK Filtering$' is missing either description or label. Skipping\n",
      "'CIS_Apple_macOS_12.0_Monterey_Benchmark_v3.0.0 MITRE ATT&CK Filtering$'_xlnm#_FilterDatabase is missing either description or label. Skipping\n",
      "'CIS_Apple_macOS_12.0_Monterey_Benchmark_v3.0.0 MITRE ATT&CK Mappings$' is missing either description or label. Skipping\n",
      "'CIS_Apple_macOS_12.0_Monterey_Benchmark_v3.0.0 Overview - Glossary$' is missing either description or label. Skipping\n",
      "CIS_Microsoft_Windows_Server_2019_STIG_Benchmark_v1.1.0 License$ is missing either description or label. Skipping\n",
      "CIS_Apple_macOS_11.0_Big_Sur_Benchmark_v4.0.0_FINAL_UPDATE License$ is missing either description or label. Skipping\n",
      "'CIS_Microsoft_Windows_Server_2019_STIG_Benchmark_v1.1.0 MITRE ATT&CK Filtering$' is missing either description or label. Skipping\n",
      "'CIS_Apple_macOS_11.0_Big_Sur_Benchmark_v4.0.0_FINAL_UPDATE MITRE ATT&CK Filtering$' is missing either description or label. Skipping\n",
      "'CIS_Microsoft_Windows_Server_2019_STIG_Benchmark_v1.1.0 MITRE ATT&CK Mappings$' is missing either description or label. Skipping\n",
      "'CIS_Apple_macOS_11.0_Big_Sur_Benchmark_v4.0.0_FINAL_UPDATE MITRE ATT&CK Filtering$'_xlnm#_FilterDatabase is missing either description or label. Skipping\n",
      "'CIS_Apple_macOS_11.0_Big_Sur_Benchmark_v4.0.0_FINAL_UPDATE MITRE ATT&CK Mappings$' is missing either description or label. Skipping\n",
      "'CIS_Apple_macOS_11.0_Big_Sur_Benchmark_v4.0.0_FINAL_UPDATE Overview - Glossary$' is missing either description or label. Skipping\n",
      "'CIS_Microsoft_Windows_Server_2019_STIG_Benchmark_v1.1.0 Overview - Glossary$' is missing either description or label. Skipping\n",
      "CIS_Apple_macOS_11.0_Benchmark_v1.2.0 License$ is missing either description or label. Skipping\n",
      "'CIS_Apple_macOS_11.0_Benchmark_v1.2.0 MITRE ATT&CK Filtering$' is missing either description or label. Skipping\n",
      "'CIS_Apple_macOS_11.0_Benchmark_v1.2.0 MITRE ATT&CK Filtering$'_xlnm#_FilterDatabase is missing either description or label. Skipping\n",
      "'CIS_Apple_macOS_11.0_Benchmark_v1.2.0 MITRE ATT&CK Mappings$' is missing either description or label. Skipping\n",
      "CIS_Azure_Compute_Microsoft_Windows_Server_2019_Benchmark_v1.0.0 License$ is missing either description or label. Skipping\n",
      "'CIS_Apple_macOS_11.0_Benchmark_v1.2.0 Overview - Glossary$' is missing either description or label. Skipping\n",
      "CIS_Apple_macOS_10.15_Catalina_Benchmark_v3.0.0 License$ is missing either description or label. Skipping\n",
      "'CIS_Apple_macOS_10.15_Catalina_Benchmark_v3.0.0 MITRE ATT&CK Filtering$' is missing either description or label. Skipping\n",
      "CIS_Azure_Compute_Microsoft_Windows_Server_2022_Benchmark_v1.0.0 License$ is missing either description or label. Skipping\n",
      "'CIS_Apple_macOS_10.15_Catalina_Benchmark_v3.0.0 MITRE ATT&CK Filtering$'_xlnm#_FilterDatabase is missing either description or label. Skipping\n",
      "'CIS_Apple_macOS_10.15_Catalina_Benchmark_v3.0.0 MITRE ATT&CK Mappings$' is missing either description or label. Skipping\n",
      "'CIS_Apple_macOS_10.15_Catalina_Benchmark_v3.0.0 Overview - Glossary$' is missing either description or label. Skipping\n",
      "CIS_Apple_macOS_10.15_Benchmark_v1.4.0 License$ is missing either description or label. Skipping\n",
      "'CIS_Apple_macOS_10.15_Benchmark_v1.4.0 MITRE ATT&CK Filtering$' is missing either description or label. Skipping\n",
      "' CIS_Apple_macOS_10.15_Benchmark_v1.4.0 MITRE ATT&CK Filtering$'_xlnm#_FilterDatabase is missing either description or label. Skipping\n",
      "'CIS_Apple_macOS_10.15_Benchmark_v1.4.0 MITRE ATT&CK Mappings$' is missing either description or label. Skipping\n",
      "'CIS_Apple_macOS_10.15_Benchmark_v1.4.0 Overview - Glossary$' is missing either description or label. Skipping\n",
      "CIS_Microsoft_Windows_Server_2022_Benchmark_v2.0.0 License$ is missing either description or label. Skipping\n",
      "CIS_Apple_macOS_10.14_Benchmark_v1.4.0 License$ is missing either description or label. Skipping\n",
      "'CIS_Apple_macOS_10.14_Benchmark_v1.4.0 MITRE ATT&CK Filtering$' is missing either description or label. Skipping\n",
      "'CIS_Apple_macOS_10.14_Benchmark_v1.4.0 MITRE ATT&CK Filtering$'_xlnm#_FilterDatabase is missing either description or label. Skipping\n",
      "'CIS_Apple_macOS_10.14_Benchmark_v1.4.0 MITRE ATT&CK Mappings$' is missing either description or label. Skipping\n",
      "'CIS_Apple_macOS_10.14_Benchmark_v1.4.0 Overview - Glossary$' is missing either description or label. Skipping\n",
      "CIS_Microsoft_Windows_Server_2019_Benchmark_v2.0.0 License$ is missing either description or label. Skipping\n",
      "CIS_Apple_macOS_10.13_Benchmark_v1.1.0 - EXCEL License$ is missing either description or label. Skipping\n",
      "'Prototype CIS Microsoft Intune for Windows 10 Release 2004 Benchmark v1.0.1_ARCHIVE IG Def (7#1)$' is missing either description or label. Skipping\n",
      "'Prototype CIS Microsoft Intune for Windows 10 Release 2004 Benchmark v1.0.1_ARCHIVE IG Mapping Fromula (7#1)$' is missing either description or label. Skipping\n",
      "CIS_Microsoft_Windows_Server_2016_Benchmark_v2.0.0 License$ is missing either description or label. Skipping\n",
      "'CIS_Palo_Alto_Firewall_6_Benchmark_v1.0.0_Table1$' is missing either description or label. Skipping\n",
      "'CIS_Palo_Alto_Firewall_6_Benchmark_v1.0.0_Table2$' is missing either description or label. Skipping\n",
      "database_firewall_rules is missing either description or label. Skipping\n",
      "Prototype CIS Microsoft Intune for Windows 10 Release 2004 Benchmark v1.0.1_ARCHIVE License$ is missing either description or label. Skipping\n",
      "'CIS_Palo_Alto_Firewall_6_Benchmark_v1.0.0_Table3$' is missing either description or label. Skipping\n",
      "'Prototype CIS Microsoft Intune for Windows 10 Release 2004 Benchmark v1.0.1_ARCHIVE MITRE & Controls Mappings$' is missing either description or label. Skipping\n",
      "'CIS_Palo_Alto_Firewall_6_Benchmark_v1.0.0_Table4$' is missing either description or label. Skipping\n",
      "CIS_Microsoft_Windows_Server_2012_R2_Benchmark_v3.0.0_FINAL_UPDATE License$ is missing either description or label. Skipping\n",
      "'Prototype CIS Microsoft Intune for Windows 10 Release 2004 Benchmark v1.0.1_ARCHIVE MITRE ATT&CK Filtering$' is missing either description or label. Skipping\n",
      "'Prototype CIS Microsoft Intune for Windows 10 Release 2004 Benchmark v1.0.1_ARCHIVE Overview - Glossary$' is missing either description or label. Skipping\n",
      "CIS_Control_1_Test Sheet1$ is missing either description or label. Skipping\n",
      "CIS_Microsoft_Windows_Server_2012_(non-R2)_Benchmark_v3.0.0_FINAL_UPDATE License$ is missing either description or label. Skipping\n",
      "CIS_Control_2_Test Sheet1$ is missing either description or label. Skipping\n",
      "CIS_Control_3_Test Sheet1$ is missing either description or label. Skipping\n",
      "CIS_Control_4_Test Sheet1$ is missing either description or label. Skipping\n",
      "CIS_Control_5_Test Sheet1$ is missing either description or label. Skipping\n",
      "CIS_Control_6_Test Sheet1$ is missing either description or label. Skipping\n",
      "CIS_Control_7_Test Sheet1$ is missing either description or label. Skipping\n",
      "CIS_Microsoft_Windows_Server_2016_STIG_Benchmark_v2.0.0 License$ is missing either description or label. Skipping\n",
      "CIS_Control_8_Test Sheet1$ is missing either description or label. Skipping\n",
      "CIS_Control_9_Test Sheet1$ is missing either description or label. Skipping\n",
      "Worksheet$ is missing either description or label. Skipping\n",
      "CIS_Control_10_Test Sheet1$ is missing either description or label. Skipping\n",
      "CIS_Control_11_Test Sheet1$ is missing either description or label. Skipping\n",
      "CIS_Control_12_Test Sheet1$ is missing either description or label. Skipping\n",
      "CIS_Control_13_Test Sheet1$ is missing either description or label. Skipping\n",
      "CIS_Control_14_Test Sheet1$ is missing either description or label. Skipping\n",
      "CIS_Control_15_Test Sheet1$ is missing either description or label. Skipping\n",
      "CIS_Control_16_Test Sheet1$ is missing either description or label. Skipping\n",
      "CIS_Control_17_Test Sheet1$ is missing either description or label. Skipping\n",
      "CIS_Control_18_Test Sheet1$ is missing either description or label. Skipping\n",
      "CIS_Microsoft_Intune_for_Windows_10_Benchmark_v2.0.0 License$ is missing either description or label. Skipping\n",
      "sysdiagrams is missing either description or label. Skipping\n",
      "'CIS_Microsoft_Windows_Server_2003_Benchmark__imported__v3.1.0_ARCHIVE$' is missing either description or label. Skipping\n",
      "'CIS_Microsoft_Windows_Server_2003__imported__v3.0.0_ARCHIVE$' is missing either description or label. Skipping\n",
      "'CIS_Microsoft_Windows_Server_2008_R2__imported__v2.0.0_ARCHIVE$' is missing either description or label. Skipping\n",
      "'CIS_Microsoft_Windows_Server_2008_Benchmark__imported__v2.1.0_ARCHIVE$' is missing either description or label. Skipping\n",
      "CIS_Microsoft_Intune_for_Windows_11_Benchmark_v2.0.0 License$ is missing either description or label. Skipping\n",
      "CIS_AKS_Optimized_Azure_Linux_Benchmark_v1.0.0 License$ is missing either description or label. Skipping\n",
      "CIS_Microsoft_Windows_Server_2016_RTM_(Release_1607)_Benchmark_v1.3.0 License$ is missing either description or label. Skipping\n",
      "'Prototype_CIS_Microsoft_Windows_Server_2019_STIG_Benchmark_v1.0.0 MITRE ATT&CK Mapping DC$' is missing either description or label. Skipping\n",
      "CIS_Apple_macOS_14.0_Sonoma_Benchmark_v1.0.0 License$ is missing either description or label. Skipping\n",
      "'Prototype_CIS_Microsoft_Windows_Server_2019_STIG_Benchmark_v1.0.0 MITRE ATT&CK Mapping DC$'_xlnm#_FilterDatabase is missing either description or label. Skipping\n",
      "'CIS_Apple_macOS_14.0_Sonoma_Benchmark_v1.0.0 MITRE ATT&CK Filtering$' is missing either description or label. Skipping\n",
      "'CIS_Microsoft_Windows_Server_2016_RTM_(Release_1607)_Benchmark_v1.3.0 MITRE ATT&CK Mapping MS$' is missing either description or label. Skipping\n",
      "'CIS_Apple_macOS_14.0_Sonoma_Benchmark_v1.0.0 MITRE ATT&CK Filtering$'_xlnm#_FilterDatabase is missing either description or label. Skipping\n",
      "'CIS_Microsoft_Windows_Server_2016_RTM_(Release_1607)_Benchmark_v1.3.0 MITRE ATT&CK Mapping MS$'_xlnm#_FilterDatabase is missing either description or label. Skipping\n",
      "'CIS_Apple_macOS_14.0_Sonoma_Benchmark_v1.0.0 MITRE ATT&CK Mappings$' is missing either description or label. Skipping\n",
      "'Prototype_CIS_Microsoft_Windows_Server_2019_STIG_Benchmark_v1.0.0 MITRE ATT&CK STIG DC$' is missing either description or label. Skipping\n",
      "'CIS_Apple_macOS_14.0_Sonoma_Benchmark_v1.0.0 Overview - Glossary$' is missing either description or label. Skipping\n",
      "'Prototype_CIS_Microsoft_Windows_Server_2019_STIG_Benchmark_v1.0.0 MITRE ATT&CK STIG DC$'_xlnm#_FilterDatabase is missing either description or label. Skipping\n",
      "'Prototype_CIS_Microsoft_Windows_Server_2019_STIG_Benchmark_v1.0.0 MITRE ATT&CK STIG MS$' is missing either description or label. Skipping\n",
      "'Prototype_CIS_Microsoft_Windows_Server_2019_STIG_Benchmark_v1.0.0 MITRE ATT&CK STIG MS$'_xlnm#_FilterDatabase is missing either description or label. Skipping\n",
      "CIS_Apple_macOS_10.14_Mojave_Benchmark_v2.0.0 License$ is missing either description or label. Skipping\n",
      "'CIS_Apple_macOS_10.14_Mojave_Benchmark_v2.0.0 MITRE ATT&CK Filtering$' is missing either description or label. Skipping\n",
      "'CIS_Apple_macOS_10.14_Mojave_Benchmark_v2.0.0 MITRE ATT&CK Filtering$'_xlnm#_FilterDatabase is missing either description or label. Skipping\n",
      "'CIS_Apple_macOS_10.14_Mojave_Benchmark_v2.0.0 MITRE ATT&CK Mappings$' is missing either description or label. Skipping\n",
      "'CIS_Apple_macOS_10.14_Mojave_Benchmark_v2.0.0 Overview - Glossary$' is missing either description or label. Skipping\n",
      "'CIS_Microsoft_Windows_Server_2016_RTM_(Release_1607)_Benchmark_v1.3.0 Glossary$' is missing either description or label. Skipping\n",
      "Prototype_CIS_Microsoft_Windows_Server_2019_STIG_Benchmark_v1.0.0 Sheet6$ is missing either description or label. Skipping\n",
      "CIS_Apple_macOS_13.0_Ventura_Benchmark_v2.0.0 License$ is missing either description or label. Skipping\n",
      "'CIS_Apple_macOS_13.0_Ventura_Benchmark_v2.0.0 MITRE ATT&CK Filtering$' is missing either description or label. Skipping\n",
      "'CIS_Apple_macOS_13.0_Ventura_Benchmark_v2.0.0 MITRE ATT&CK Filtering$'_xlnm#_FilterDatabase is missing either description or label. Skipping\n",
      "'CIS_Apple_macOS_13.0_Ventura_Benchmark_v2.0.0 MITRE ATT&CK Mappings$' is missing either description or label. Skipping\n",
      "'CIS_Apple_macOS_13.0_Ventura_Benchmark_v2.0.0 Overview - Glossary$' is missing either description or label. Skipping\n"
     ]
    }
   ],
   "source": [
    "#Train with CIS\n",
    "#Get names of tables\n",
    "cursor.execute(\"SELECT TABLE_NAME FROM INFORMATION_SCHEMA.TABLES\")\n",
    "\n",
    "cisNames = []\n",
    "for names in cursor:\n",
    "    if names[0]!=(\"NIST_800.53_controls$\") or names[0]!=\"NIST_800.53_baselines$\":\n",
    "        cisNames.append(names[0])\n",
    "\n",
    "#labels is the section num, texts is the description\n",
    "labels = []\n",
    "texts = []\n",
    "#Get individual tables\n",
    "setCount=0\n",
    "for count in range(len(cisNames)):\n",
    "    try:\n",
    "        cursor.execute(\"SELECT [Section #], [Description]  FROM [dbo].[\"+cisNames[count]+\"]\")\n",
    "        #checks and sorts by first number in the section number\n",
    "        for row in cursor:\n",
    "            if row[0] != None and row[1] != None:\n",
    "                texts.append(str(row[1]))            \n",
    "                if str(row[0])[0:2][-1] == \".\":\n",
    "                    labels.append(str(row[0])[0:3])#setCount)\n",
    "                elif str(row[0])[0:3][-1] == \".\":\n",
    "                    labels.append(str(row[0])[0:4])#setCount)\n",
    "                else:\n",
    "                    labels.append(str(row[0])[0:2])#setCount)\n",
    "            if len(texts) != len(labels):\n",
    "                print(\"WARNNNING THEY FELL OFF HERE!:\"+str(cisNames[count])+\"      \"+str(row[0])+\" \"+str(row[1]))\n",
    "    except pyodbc.ProgrammingError:\n",
    "        print(cisNames[count]+\" is missing either description or label. Skipping\")\n",
    "\n",
    "x_test = []\n",
    "y_test = []\n",
    "x_cis = np.array(texts)\n",
    "y_cis = np.array(labels)\n",
    "y_cis = y_cis.astype(float)\n",
    "y_cis = y_cis.astype(int)\n",
    "\n",
    "# test is the actual test, act is used for the training\n",
    "# for i in range(150):\n",
    "#     random_index = random.randrange(len(labels))\n",
    "#     x_test.append(texts.pop(random_index))\n",
    "#     y_test.append(labels.pop(random_index))\n",
    "# x_test = np.array(x_test)\n",
    "# y_test = np.array(y_test)\n",
    "# y_test = y_test.astype(float)\n",
    "# y_test = y_test.astype(int)"
   ]
  },
  {
   "cell_type": "code",
   "execution_count": 72,
   "id": "63f9645d-a40f-47ae-a612-499c5405c570",
   "metadata": {},
   "outputs": [
    {
     "name": "stdout",
     "output_type": "stream",
     "text": [
      "1189\n",
      "1189\n",
      "298\n",
      "NextGeneration$\n"
     ]
    }
   ],
   "source": [
    "print(len((x_act)))\n",
    "print(len((y_act)))\n",
    "print(len(cisNames))\n",
    "print(cisNames[13])\n",
    "# for dist in y_act:\n",
    "     # print(dist)"
   ]
  },
  {
   "cell_type": "code",
   "execution_count": 69,
   "id": "b9055b7f-51f2-4c91-8768-1b6862b1f59d",
   "metadata": {},
   "outputs": [
    {
     "name": "stdout",
     "output_type": "stream",
     "text": [
      "20\n"
     ]
    }
   ],
   "source": [
    "#model.save('CYSE493_Group8_CIS-NIST_Model.keras')  # creates a keras save file\n",
    "# identical to the previous one\n",
    "#model = load_model('CYSE493_Group8_CIS-NIST_Model.keras')\n",
    "print(len(set(y_act)))"
   ]
  },
  {
   "cell_type": "code",
   "execution_count": 73,
   "id": "77a2e0e7-b37b-441f-b8db-6ebf5c98477d",
   "metadata": {},
   "outputs": [
    {
     "name": "stdout",
     "output_type": "stream",
     "text": [
      "2213/2213 [==============================] - 138s 62ms/step - loss: 6.8528 - accuracy: 0.0875\n",
      "Test set\n",
      "  Loss: 6.853\n",
      "  Accuracy: 0.087\n"
     ]
    }
   ],
   "source": [
    "#new tests\n",
    "###padding\n",
    "num_classes = len(set(y_act)) + 1 # number of classes\n",
    "\n",
    "## reuse old tokenizer for x_test\n",
    "tokenizer = Tokenizer(num_words=50000)#max_words)\n",
    "tokenizer.fit_on_texts(x_cis)#x_act\n",
    "sequences = tokenizer.texts_to_sequences(x_cis)\n",
    "\n",
    "## Pad the sequences so they all have the same length\n",
    "x_test = pad_sequences(sequences, maxlen=max_len)\n",
    "y_test = keras.utils.to_categorical(y_cis, num_classes)\n",
    "\n",
    "#Test the model     \n",
    "#If you want to test different x_test/y_test you can compile that section instead of retraining the whole thing again\n",
    "accr = model.evaluate(x_test,y_test) #was x_test and y_test?\n",
    "print('Test set\\n  Loss: {:0.3f}\\n  Accuracy: {:0.3f}'.format(accr[0],accr[1]))\n",
    "\n",
    "#for i in range(10):\n",
    "#    result = tf.argmax(model.predict(tf.expand_dims(texts[i], 0)), axis=1)\n",
    "#    print(result.numpy(), labels[i])"
   ]
  },
  {
   "cell_type": "code",
   "execution_count": null,
   "id": "28cea26d",
   "metadata": {},
   "outputs": [],
   "source": [
    "print(x_test.shape)\n",
    "print(y_test.shape)\n",
    "print(x.shape)\n",
    "print(y.shape)\n",
    "print(x_test)\n",
    "print(y_test)\n",
    "print(x)\n",
    "print(y)\n",
    "print(x_act[1])"
   ]
  },
  {
   "cell_type": "code",
   "execution_count": null,
   "id": "2b0effd8",
   "metadata": {},
   "outputs": [],
   "source": [
    "print(len(set(y_act)))"
   ]
  },
  {
   "cell_type": "code",
   "execution_count": null,
   "id": "b814349d-9957-4f6c-9ea0-1fc20a06a9a4",
   "metadata": {},
   "outputs": [],
   "source": []
  }
 ],
 "metadata": {
  "kernelspec": {
   "display_name": "Python 3 (ipykernel)",
   "language": "python",
   "name": "python3"
  },
  "language_info": {
   "codemirror_mode": {
    "name": "ipython",
    "version": 3
   },
   "file_extension": ".py",
   "mimetype": "text/x-python",
   "name": "python",
   "nbconvert_exporter": "python",
   "pygments_lexer": "ipython3",
   "version": "3.11.5"
  }
 },
 "nbformat": 4,
 "nbformat_minor": 5
}
